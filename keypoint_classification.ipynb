{
 "cells": [
  {
   "cell_type": "code",
   "execution_count": 45,
   "metadata": {},
   "outputs": [],
   "source": [
    "import csv\n",
    "\n",
    "import numpy as np\n",
    "import tensorflow as tf\n",
    "from sklearn.model_selection import train_test_split\n",
    "\n",
    "RANDOM_SEED = 42"
   ]
  },
  {
   "cell_type": "markdown",
   "metadata": {},
   "source": [
    "# 경로 설정"
   ]
  },
  {
   "cell_type": "code",
   "execution_count": 46,
   "metadata": {},
   "outputs": [],
   "source": [
    "dataset = 'model/keypoint_classifier/keypoint.csv'\n",
    "model_save_path = 'model/keypoint_classifier/keypoint_classifier.hdf5'"
   ]
  },
  {
   "cell_type": "markdown",
   "metadata": {},
   "source": [
    "# 분류 수 설정"
   ]
  },
  {
   "cell_type": "code",
   "execution_count": 47,
   "metadata": {},
   "outputs": [],
   "source": [
    "NUM_CLASSES = 18"
   ]
  },
  {
   "cell_type": "markdown",
   "metadata": {},
   "source": [
    "# 학습데이터 불러오기"
   ]
  },
  {
   "cell_type": "code",
   "execution_count": 48,
   "metadata": {},
   "outputs": [],
   "source": [
    "X_dataset = np.loadtxt(dataset, delimiter=',', dtype='float32', usecols=list(range(1, (21 * 2) + 1)))"
   ]
  },
  {
   "cell_type": "code",
   "execution_count": 49,
   "metadata": {},
   "outputs": [],
   "source": [
    "y_dataset = np.loadtxt(dataset, delimiter=',', dtype='int32', usecols=(0))"
   ]
  },
  {
   "cell_type": "code",
   "execution_count": 50,
   "metadata": {},
   "outputs": [],
   "source": [
    "X_train, X_test, y_train, y_test = train_test_split(X_dataset, y_dataset, train_size=0.75, random_state=RANDOM_SEED)"
   ]
  },
  {
   "cell_type": "markdown",
   "metadata": {},
   "source": [
    "# 모델구축"
   ]
  },
  {
   "cell_type": "code",
   "execution_count": 51,
   "metadata": {},
   "outputs": [],
   "source": [
    "model = tf.keras.models.Sequential([\n",
    "    tf.keras.layers.Input((21 * 2, )),\n",
    "    tf.keras.layers.Dropout(0.2),\n",
    "    tf.keras.layers.Dense(64, activation='relu'),\n",
    "    tf.keras.layers.Dropout(0.4),\n",
    "    tf.keras.layers.Dense(32, activation='relu'),\n",
    "    tf.keras.layers.Dense(NUM_CLASSES, activation='softmax')\n",
    "])"
   ]
  },
  {
   "cell_type": "code",
   "execution_count": 52,
   "metadata": {},
   "outputs": [
    {
     "name": "stdout",
     "output_type": "stream",
     "text": [
      "Model: \"sequential_2\"\n",
      "_________________________________________________________________\n",
      " Layer (type)                Output Shape              Param #   \n",
      "=================================================================\n",
      " dropout_4 (Dropout)         (None, 42)                0         \n",
      "                                                                 \n",
      " dense_6 (Dense)             (None, 64)                2752      \n",
      "                                                                 \n",
      " dropout_5 (Dropout)         (None, 64)                0         \n",
      "                                                                 \n",
      " dense_7 (Dense)             (None, 32)                2080      \n",
      "                                                                 \n",
      " dense_8 (Dense)             (None, 18)                594       \n",
      "                                                                 \n",
      "=================================================================\n",
      "Total params: 5,426\n",
      "Trainable params: 5,426\n",
      "Non-trainable params: 0\n",
      "_________________________________________________________________\n"
     ]
    }
   ],
   "source": [
    "model.summary()  # tf.keras.utils.plot_model(model, show_shapes=True)"
   ]
  },
  {
   "cell_type": "code",
   "execution_count": 53,
   "metadata": {},
   "outputs": [],
   "source": [
    "# モデルチェックポイントのコールバック\n",
    "cp_callback = tf.keras.callbacks.ModelCheckpoint(\n",
    "    model_save_path, verbose=1, save_weights_only=False)\n",
    "# 早期打ち切り用コールバック\n",
    "es_callback = tf.keras.callbacks.EarlyStopping(patience=20, verbose=1)"
   ]
  },
  {
   "cell_type": "code",
   "execution_count": 54,
   "metadata": {},
   "outputs": [],
   "source": [
    "# モデルコンパイル\n",
    "model.compile(\n",
    "    optimizer='adam',\n",
    "    loss='sparse_categorical_crossentropy',\n",
    "    metrics=['accuracy']\n",
    ")"
   ]
  },
  {
   "cell_type": "markdown",
   "metadata": {},
   "source": [
    "# 모델 훈련"
   ]
  },
  {
   "cell_type": "code",
   "execution_count": 55,
   "metadata": {
    "scrolled": true
   },
   "outputs": [
    {
     "name": "stdout",
     "output_type": "stream",
     "text": [
      "Epoch 1/1000\n",
      " 87/114 [=====================>........] - ETA: 0s - loss: 2.3870 - accuracy: 0.2683 \n",
      "Epoch 00001: saving model to model/keypoint_classifier/keypoint_classifier.hdf5\n",
      "114/114 [==============================] - 0s 1ms/step - loss: 2.2442 - accuracy: 0.3242 - val_loss: 1.3502 - val_accuracy: 0.7665\n",
      "Epoch 2/1000\n",
      " 77/114 [===================>..........] - ETA: 0s - loss: 1.3259 - accuracy: 0.5900\n",
      "Epoch 00002: saving model to model/keypoint_classifier/keypoint_classifier.hdf5\n",
      "114/114 [==============================] - 0s 893us/step - loss: 1.2201 - accuracy: 0.6158 - val_loss: 0.5843 - val_accuracy: 0.8258\n",
      "Epoch 3/1000\n",
      " 74/114 [==================>...........] - ETA: 0s - loss: 0.8588 - accuracy: 0.7089\n",
      "Epoch 00003: saving model to model/keypoint_classifier/keypoint_classifier.hdf5\n",
      "114/114 [==============================] - 0s 908us/step - loss: 0.8286 - accuracy: 0.7184 - val_loss: 0.3731 - val_accuracy: 0.9054\n",
      "Epoch 4/1000\n",
      " 79/114 [===================>..........] - ETA: 0s - loss: 0.6856 - accuracy: 0.7736\n",
      "Epoch 00004: saving model to model/keypoint_classifier/keypoint_classifier.hdf5\n",
      "114/114 [==============================] - 0s 870us/step - loss: 0.6663 - accuracy: 0.7763 - val_loss: 0.2731 - val_accuracy: 0.9436\n",
      "Epoch 5/1000\n",
      " 77/114 [===================>..........] - ETA: 0s - loss: 0.6029 - accuracy: 0.7929\n",
      "Epoch 00005: saving model to model/keypoint_classifier/keypoint_classifier.hdf5\n",
      "114/114 [==============================] - 0s 894us/step - loss: 0.5868 - accuracy: 0.7982 - val_loss: 0.2236 - val_accuracy: 0.9506\n",
      "Epoch 6/1000\n",
      " 74/114 [==================>...........] - ETA: 0s - loss: 0.5391 - accuracy: 0.8166\n",
      "Epoch 00006: saving model to model/keypoint_classifier/keypoint_classifier.hdf5\n",
      "114/114 [==============================] - 0s 898us/step - loss: 0.5264 - accuracy: 0.8222 - val_loss: 0.1838 - val_accuracy: 0.9636\n",
      "Epoch 7/1000\n",
      " 76/114 [===================>..........] - ETA: 0s - loss: 0.4885 - accuracy: 0.8367\n",
      "Epoch 00007: saving model to model/keypoint_classifier/keypoint_classifier.hdf5\n",
      "114/114 [==============================] - 0s 893us/step - loss: 0.4787 - accuracy: 0.8375 - val_loss: 0.1555 - val_accuracy: 0.9763\n",
      "Epoch 8/1000\n",
      " 77/114 [===================>..........] - ETA: 0s - loss: 0.4597 - accuracy: 0.8424\n",
      "Epoch 00008: saving model to model/keypoint_classifier/keypoint_classifier.hdf5\n",
      "114/114 [==============================] - 0s 878us/step - loss: 0.4535 - accuracy: 0.8466 - val_loss: 0.1382 - val_accuracy: 0.9745\n",
      "Epoch 9/1000\n",
      " 77/114 [===================>..........] - ETA: 0s - loss: 0.4263 - accuracy: 0.8586\n",
      "Epoch 00009: saving model to model/keypoint_classifier/keypoint_classifier.hdf5\n",
      "114/114 [==============================] - 0s 871us/step - loss: 0.4245 - accuracy: 0.8580 - val_loss: 0.1242 - val_accuracy: 0.9743\n",
      "Epoch 10/1000\n",
      " 58/114 [==============>...............] - ETA: 0s - loss: 0.4034 - accuracy: 0.8683\n",
      "Epoch 00010: saving model to model/keypoint_classifier/keypoint_classifier.hdf5\n",
      "114/114 [==============================] - 0s 990us/step - loss: 0.3985 - accuracy: 0.8683 - val_loss: 0.1094 - val_accuracy: 0.9840\n",
      "Epoch 11/1000\n",
      " 74/114 [==================>...........] - ETA: 0s - loss: 0.3909 - accuracy: 0.8667\n",
      "Epoch 00011: saving model to model/keypoint_classifier/keypoint_classifier.hdf5\n",
      "114/114 [==============================] - 0s 896us/step - loss: 0.3976 - accuracy: 0.8672 - val_loss: 0.1077 - val_accuracy: 0.9837\n",
      "Epoch 12/1000\n",
      " 79/114 [===================>..........] - ETA: 0s - loss: 0.3861 - accuracy: 0.8681\n",
      "Epoch 00012: saving model to model/keypoint_classifier/keypoint_classifier.hdf5\n",
      "114/114 [==============================] - 0s 868us/step - loss: 0.3821 - accuracy: 0.8720 - val_loss: 0.0957 - val_accuracy: 0.9862\n",
      "Epoch 13/1000\n",
      " 81/114 [====================>.........] - ETA: 0s - loss: 0.3729 - accuracy: 0.8758\n",
      "Epoch 00013: saving model to model/keypoint_classifier/keypoint_classifier.hdf5\n",
      "114/114 [==============================] - 0s 847us/step - loss: 0.3679 - accuracy: 0.8763 - val_loss: 0.0975 - val_accuracy: 0.9794\n",
      "Epoch 14/1000\n",
      " 80/114 [====================>.........] - ETA: 0s - loss: 0.3517 - accuracy: 0.8854\n",
      "Epoch 00014: saving model to model/keypoint_classifier/keypoint_classifier.hdf5\n",
      "114/114 [==============================] - 0s 865us/step - loss: 0.3512 - accuracy: 0.8850 - val_loss: 0.0840 - val_accuracy: 0.9852\n",
      "Epoch 15/1000\n",
      " 81/114 [====================>.........] - ETA: 0s - loss: 0.3380 - accuracy: 0.8877\n",
      "Epoch 00015: saving model to model/keypoint_classifier/keypoint_classifier.hdf5\n",
      "114/114 [==============================] - 0s 853us/step - loss: 0.3410 - accuracy: 0.8877 - val_loss: 0.0812 - val_accuracy: 0.9850\n",
      "Epoch 16/1000\n",
      " 77/114 [===================>..........] - ETA: 0s - loss: 0.3340 - accuracy: 0.8893\n",
      "Epoch 00016: saving model to model/keypoint_classifier/keypoint_classifier.hdf5\n",
      "114/114 [==============================] - 0s 895us/step - loss: 0.3309 - accuracy: 0.8888 - val_loss: 0.0768 - val_accuracy: 0.9895\n",
      "Epoch 17/1000\n",
      " 80/114 [====================>.........] - ETA: 0s - loss: 0.3281 - accuracy: 0.8908\n",
      "Epoch 00017: saving model to model/keypoint_classifier/keypoint_classifier.hdf5\n",
      "114/114 [==============================] - 0s 868us/step - loss: 0.3293 - accuracy: 0.8904 - val_loss: 0.0713 - val_accuracy: 0.9914\n",
      "Epoch 18/1000\n",
      " 77/114 [===================>..........] - ETA: 0s - loss: 0.3218 - accuracy: 0.8910\n",
      "Epoch 00018: saving model to model/keypoint_classifier/keypoint_classifier.hdf5\n",
      "114/114 [==============================] - 0s 890us/step - loss: 0.3200 - accuracy: 0.8918 - val_loss: 0.0703 - val_accuracy: 0.9907\n",
      "Epoch 19/1000\n",
      " 79/114 [===================>..........] - ETA: 0s - loss: 0.3167 - accuracy: 0.8928\n",
      "Epoch 00019: saving model to model/keypoint_classifier/keypoint_classifier.hdf5\n",
      "114/114 [==============================] - 0s 877us/step - loss: 0.3150 - accuracy: 0.8945 - val_loss: 0.0650 - val_accuracy: 0.9920\n",
      "Epoch 20/1000\n",
      " 80/114 [====================>.........] - ETA: 0s - loss: 0.3103 - accuracy: 0.8944\n",
      "Epoch 00020: saving model to model/keypoint_classifier/keypoint_classifier.hdf5\n",
      "114/114 [==============================] - 0s 890us/step - loss: 0.3083 - accuracy: 0.8963 - val_loss: 0.0699 - val_accuracy: 0.9909\n",
      "Epoch 21/1000\n",
      " 81/114 [====================>.........] - ETA: 0s - loss: 0.3077 - accuracy: 0.8964\n",
      "Epoch 00021: saving model to model/keypoint_classifier/keypoint_classifier.hdf5\n",
      "114/114 [==============================] - 0s 854us/step - loss: 0.2993 - accuracy: 0.8990 - val_loss: 0.0614 - val_accuracy: 0.9928\n",
      "Epoch 22/1000\n",
      " 80/114 [====================>.........] - ETA: 0s - loss: 0.2946 - accuracy: 0.9045\n",
      "Epoch 00022: saving model to model/keypoint_classifier/keypoint_classifier.hdf5\n",
      "114/114 [==============================] - 0s 858us/step - loss: 0.2929 - accuracy: 0.9043 - val_loss: 0.0611 - val_accuracy: 0.9918\n",
      "Epoch 23/1000\n",
      " 79/114 [===================>..........] - ETA: 0s - loss: 0.2888 - accuracy: 0.9025\n",
      "Epoch 00023: saving model to model/keypoint_classifier/keypoint_classifier.hdf5\n",
      "114/114 [==============================] - 0s 864us/step - loss: 0.2885 - accuracy: 0.9035 - val_loss: 0.0615 - val_accuracy: 0.9930\n",
      "Epoch 24/1000\n",
      " 80/114 [====================>.........] - ETA: 0s - loss: 0.2699 - accuracy: 0.9104\n",
      "Epoch 00024: saving model to model/keypoint_classifier/keypoint_classifier.hdf5\n",
      "114/114 [==============================] - 0s 855us/step - loss: 0.2750 - accuracy: 0.9073 - val_loss: 0.0585 - val_accuracy: 0.9926\n",
      "Epoch 25/1000\n",
      " 78/114 [===================>..........] - ETA: 0s - loss: 0.2689 - accuracy: 0.9099\n",
      "Epoch 00025: saving model to model/keypoint_classifier/keypoint_classifier.hdf5\n",
      "114/114 [==============================] - 0s 872us/step - loss: 0.2730 - accuracy: 0.9086 - val_loss: 0.0595 - val_accuracy: 0.9928\n",
      "Epoch 26/1000\n",
      " 79/114 [===================>..........] - ETA: 0s - loss: 0.2725 - accuracy: 0.9084\n",
      "Epoch 00026: saving model to model/keypoint_classifier/keypoint_classifier.hdf5\n",
      "114/114 [==============================] - 0s 866us/step - loss: 0.2707 - accuracy: 0.9087 - val_loss: 0.0537 - val_accuracy: 0.9947\n",
      "Epoch 27/1000\n",
      " 77/114 [===================>..........] - ETA: 0s - loss: 0.2806 - accuracy: 0.9087\n",
      "Epoch 00027: saving model to model/keypoint_classifier/keypoint_classifier.hdf5\n",
      "114/114 [==============================] - 0s 876us/step - loss: 0.2732 - accuracy: 0.9099 - val_loss: 0.0564 - val_accuracy: 0.9928\n",
      "Epoch 28/1000\n",
      " 77/114 [===================>..........] - ETA: 0s - loss: 0.2648 - accuracy: 0.9134\n",
      "Epoch 00028: saving model to model/keypoint_classifier/keypoint_classifier.hdf5\n",
      "114/114 [==============================] - 0s 890us/step - loss: 0.2652 - accuracy: 0.9113 - val_loss: 0.0514 - val_accuracy: 0.9936\n",
      "Epoch 29/1000\n",
      " 81/114 [====================>.........] - ETA: 0s - loss: 0.2610 - accuracy: 0.9130\n",
      "Epoch 00029: saving model to model/keypoint_classifier/keypoint_classifier.hdf5\n",
      "114/114 [==============================] - 0s 865us/step - loss: 0.2668 - accuracy: 0.9108 - val_loss: 0.0505 - val_accuracy: 0.9942\n",
      "Epoch 30/1000\n",
      " 77/114 [===================>..........] - ETA: 0s - loss: 0.2623 - accuracy: 0.9120\n",
      "Epoch 00030: saving model to model/keypoint_classifier/keypoint_classifier.hdf5\n",
      "114/114 [==============================] - 0s 880us/step - loss: 0.2617 - accuracy: 0.9124 - val_loss: 0.0524 - val_accuracy: 0.9936\n",
      "Epoch 31/1000\n",
      " 79/114 [===================>..........] - ETA: 0s - loss: 0.2625 - accuracy: 0.9140\n",
      "Epoch 00031: saving model to model/keypoint_classifier/keypoint_classifier.hdf5\n",
      "114/114 [==============================] - 0s 867us/step - loss: 0.2604 - accuracy: 0.9137 - val_loss: 0.0563 - val_accuracy: 0.9934\n",
      "Epoch 32/1000\n",
      " 78/114 [===================>..........] - ETA: 0s - loss: 0.2614 - accuracy: 0.9117\n",
      "Epoch 00032: saving model to model/keypoint_classifier/keypoint_classifier.hdf5\n",
      "114/114 [==============================] - 0s 876us/step - loss: 0.2546 - accuracy: 0.9140 - val_loss: 0.0465 - val_accuracy: 0.9944\n",
      "Epoch 33/1000\n",
      " 77/114 [===================>..........] - ETA: 0s - loss: 0.2538 - accuracy: 0.9157\n",
      "Epoch 00033: saving model to model/keypoint_classifier/keypoint_classifier.hdf5\n",
      "114/114 [==============================] - 0s 891us/step - loss: 0.2493 - accuracy: 0.9170 - val_loss: 0.0475 - val_accuracy: 0.9944\n",
      "Epoch 34/1000\n",
      " 77/114 [===================>..........] - ETA: 0s - loss: 0.2310 - accuracy: 0.9211\n",
      "Epoch 00034: saving model to model/keypoint_classifier/keypoint_classifier.hdf5\n",
      "114/114 [==============================] - 0s 885us/step - loss: 0.2354 - accuracy: 0.9210 - val_loss: 0.0442 - val_accuracy: 0.9944\n",
      "Epoch 35/1000\n",
      " 79/114 [===================>..........] - ETA: 0s - loss: 0.2436 - accuracy: 0.9181\n",
      "Epoch 00035: saving model to model/keypoint_classifier/keypoint_classifier.hdf5\n",
      "114/114 [==============================] - 0s 969us/step - loss: 0.2395 - accuracy: 0.9204 - val_loss: 0.0447 - val_accuracy: 0.9949\n",
      "Epoch 36/1000\n",
      " 77/114 [===================>..........] - ETA: 0s - loss: 0.2427 - accuracy: 0.9165\n",
      "Epoch 00036: saving model to model/keypoint_classifier/keypoint_classifier.hdf5\n",
      "114/114 [==============================] - 0s 888us/step - loss: 0.2365 - accuracy: 0.9193 - val_loss: 0.0428 - val_accuracy: 0.9949\n",
      "Epoch 37/1000\n",
      " 76/114 [===================>..........] - ETA: 0s - loss: 0.2480 - accuracy: 0.9155\n",
      "Epoch 00037: saving model to model/keypoint_classifier/keypoint_classifier.hdf5\n",
      "114/114 [==============================] - 0s 932us/step - loss: 0.2422 - accuracy: 0.9183 - val_loss: 0.0445 - val_accuracy: 0.9953\n",
      "Epoch 38/1000\n",
      " 80/114 [====================>.........] - ETA: 0s - loss: 0.2348 - accuracy: 0.9203\n",
      "Epoch 00038: saving model to model/keypoint_classifier/keypoint_classifier.hdf5\n",
      "114/114 [==============================] - 0s 867us/step - loss: 0.2289 - accuracy: 0.9232 - val_loss: 0.0406 - val_accuracy: 0.9947\n",
      "Epoch 39/1000\n",
      " 79/114 [===================>..........] - ETA: 0s - loss: 0.2413 - accuracy: 0.9216\n",
      "Epoch 00039: saving model to model/keypoint_classifier/keypoint_classifier.hdf5\n",
      "114/114 [==============================] - 0s 866us/step - loss: 0.2393 - accuracy: 0.9223 - val_loss: 0.0472 - val_accuracy: 0.9938\n",
      "Epoch 40/1000\n",
      " 79/114 [===================>..........] - ETA: 0s - loss: 0.2227 - accuracy: 0.9249\n",
      "Epoch 00040: saving model to model/keypoint_classifier/keypoint_classifier.hdf5\n",
      "114/114 [==============================] - 0s 863us/step - loss: 0.2261 - accuracy: 0.9250 - val_loss: 0.0440 - val_accuracy: 0.9949\n",
      "Epoch 41/1000\n",
      " 79/114 [===================>..........] - ETA: 0s - loss: 0.2372 - accuracy: 0.9214\n",
      "Epoch 00041: saving model to model/keypoint_classifier/keypoint_classifier.hdf5\n",
      "114/114 [==============================] - 0s 874us/step - loss: 0.2338 - accuracy: 0.9216 - val_loss: 0.0436 - val_accuracy: 0.9936\n",
      "Epoch 42/1000\n",
      " 77/114 [===================>..........] - ETA: 0s - loss: 0.2235 - accuracy: 0.9272\n",
      "Epoch 00042: saving model to model/keypoint_classifier/keypoint_classifier.hdf5\n",
      "114/114 [==============================] - 0s 878us/step - loss: 0.2207 - accuracy: 0.9274 - val_loss: 0.0416 - val_accuracy: 0.9940\n",
      "Epoch 43/1000\n",
      " 82/114 [====================>.........] - ETA: 0s - loss: 0.2199 - accuracy: 0.9260\n",
      "Epoch 00043: saving model to model/keypoint_classifier/keypoint_classifier.hdf5\n",
      "114/114 [==============================] - 0s 856us/step - loss: 0.2215 - accuracy: 0.9244 - val_loss: 0.0425 - val_accuracy: 0.9947\n",
      "Epoch 44/1000\n",
      " 78/114 [===================>..........] - ETA: 0s - loss: 0.2141 - accuracy: 0.9294\n",
      "Epoch 00044: saving model to model/keypoint_classifier/keypoint_classifier.hdf5\n",
      "114/114 [==============================] - 0s 875us/step - loss: 0.2170 - accuracy: 0.9276 - val_loss: 0.0366 - val_accuracy: 0.9955\n",
      "Epoch 45/1000\n",
      " 79/114 [===================>..........] - ETA: 0s - loss: 0.2209 - accuracy: 0.9267\n",
      "Epoch 00045: saving model to model/keypoint_classifier/keypoint_classifier.hdf5\n",
      "114/114 [==============================] - 0s 865us/step - loss: 0.2208 - accuracy: 0.9266 - val_loss: 0.0421 - val_accuracy: 0.9934\n",
      "Epoch 46/1000\n",
      " 77/114 [===================>..........] - ETA: 0s - loss: 0.2206 - accuracy: 0.9288\n",
      "Epoch 00046: saving model to model/keypoint_classifier/keypoint_classifier.hdf5\n",
      "114/114 [==============================] - 0s 875us/step - loss: 0.2179 - accuracy: 0.9292 - val_loss: 0.0412 - val_accuracy: 0.9951\n",
      "Epoch 47/1000\n",
      " 78/114 [===================>..........] - ETA: 0s - loss: 0.2225 - accuracy: 0.9299\n",
      "Epoch 00047: saving model to model/keypoint_classifier/keypoint_classifier.hdf5\n",
      "114/114 [==============================] - 0s 866us/step - loss: 0.2158 - accuracy: 0.9312 - val_loss: 0.0390 - val_accuracy: 0.9940\n",
      "Epoch 48/1000\n",
      " 78/114 [===================>..........] - ETA: 0s - loss: 0.2012 - accuracy: 0.9324\n",
      "Epoch 00048: saving model to model/keypoint_classifier/keypoint_classifier.hdf5\n",
      "114/114 [==============================] - 0s 883us/step - loss: 0.2088 - accuracy: 0.9295 - val_loss: 0.0376 - val_accuracy: 0.9944\n",
      "Epoch 49/1000\n",
      " 79/114 [===================>..........] - ETA: 0s - loss: 0.2054 - accuracy: 0.9323\n",
      "Epoch 00049: saving model to model/keypoint_classifier/keypoint_classifier.hdf5\n",
      "114/114 [==============================] - 0s 864us/step - loss: 0.2029 - accuracy: 0.9322 - val_loss: 0.0337 - val_accuracy: 0.9949\n",
      "Epoch 50/1000\n",
      " 81/114 [====================>.........] - ETA: 0s - loss: 0.2022 - accuracy: 0.9354\n",
      "Epoch 00050: saving model to model/keypoint_classifier/keypoint_classifier.hdf5\n",
      "114/114 [==============================] - 0s 869us/step - loss: 0.1994 - accuracy: 0.9361 - val_loss: 0.0360 - val_accuracy: 0.9949\n",
      "Epoch 51/1000\n",
      " 79/114 [===================>..........] - ETA: 0s - loss: 0.2086 - accuracy: 0.9319\n",
      "Epoch 00051: saving model to model/keypoint_classifier/keypoint_classifier.hdf5\n",
      "114/114 [==============================] - 0s 867us/step - loss: 0.2034 - accuracy: 0.9340 - val_loss: 0.0366 - val_accuracy: 0.9936\n",
      "Epoch 52/1000\n",
      " 79/114 [===================>..........] - ETA: 0s - loss: 0.2053 - accuracy: 0.9324\n",
      "Epoch 00052: saving model to model/keypoint_classifier/keypoint_classifier.hdf5\n",
      "114/114 [==============================] - 0s 877us/step - loss: 0.2059 - accuracy: 0.9310 - val_loss: 0.0388 - val_accuracy: 0.9940\n",
      "Epoch 53/1000\n",
      " 79/114 [===================>..........] - ETA: 0s - loss: 0.2030 - accuracy: 0.9314\n",
      "Epoch 00053: saving model to model/keypoint_classifier/keypoint_classifier.hdf5\n",
      "114/114 [==============================] - 0s 880us/step - loss: 0.2054 - accuracy: 0.9320 - val_loss: 0.0378 - val_accuracy: 0.9938\n",
      "Epoch 54/1000\n",
      " 79/114 [===================>..........] - ETA: 0s - loss: 0.2032 - accuracy: 0.9336\n",
      "Epoch 00054: saving model to model/keypoint_classifier/keypoint_classifier.hdf5\n",
      "114/114 [==============================] - 0s 878us/step - loss: 0.1965 - accuracy: 0.9355 - val_loss: 0.0329 - val_accuracy: 0.9944\n",
      "Epoch 55/1000\n",
      " 79/114 [===================>..........] - ETA: 0s - loss: 0.1988 - accuracy: 0.9338\n",
      "Epoch 00055: saving model to model/keypoint_classifier/keypoint_classifier.hdf5\n",
      "114/114 [==============================] - 0s 1ms/step - loss: 0.1998 - accuracy: 0.9337 - val_loss: 0.0360 - val_accuracy: 0.9947\n",
      "Epoch 56/1000\n",
      " 81/114 [====================>.........] - ETA: 0s - loss: 0.1933 - accuracy: 0.9360\n",
      "Epoch 00056: saving model to model/keypoint_classifier/keypoint_classifier.hdf5\n",
      "114/114 [==============================] - 0s 858us/step - loss: 0.1920 - accuracy: 0.9372 - val_loss: 0.0333 - val_accuracy: 0.9951\n",
      "Epoch 57/1000\n",
      " 78/114 [===================>..........] - ETA: 0s - loss: 0.1962 - accuracy: 0.9372\n",
      "Epoch 00057: saving model to model/keypoint_classifier/keypoint_classifier.hdf5\n",
      "114/114 [==============================] - 0s 871us/step - loss: 0.1936 - accuracy: 0.9377 - val_loss: 0.0368 - val_accuracy: 0.9936\n",
      "Epoch 58/1000\n",
      " 78/114 [===================>..........] - ETA: 0s - loss: 0.2027 - accuracy: 0.9361\n",
      "Epoch 00058: saving model to model/keypoint_classifier/keypoint_classifier.hdf5\n",
      "114/114 [==============================] - 0s 882us/step - loss: 0.1979 - accuracy: 0.9370 - val_loss: 0.0362 - val_accuracy: 0.9944\n",
      "Epoch 59/1000\n",
      " 77/114 [===================>..........] - ETA: 0s - loss: 0.1908 - accuracy: 0.9391\n",
      "Epoch 00059: saving model to model/keypoint_classifier/keypoint_classifier.hdf5\n",
      "114/114 [==============================] - 0s 900us/step - loss: 0.1911 - accuracy: 0.9386 - val_loss: 0.0363 - val_accuracy: 0.9949\n",
      "Epoch 60/1000\n",
      " 80/114 [====================>.........] - ETA: 0s - loss: 0.1822 - accuracy: 0.9413\n",
      "Epoch 00060: saving model to model/keypoint_classifier/keypoint_classifier.hdf5\n",
      "114/114 [==============================] - 0s 864us/step - loss: 0.1818 - accuracy: 0.9402 - val_loss: 0.0312 - val_accuracy: 0.9944\n",
      "Epoch 61/1000\n",
      " 76/114 [===================>..........] - ETA: 0s - loss: 0.1833 - accuracy: 0.9385\n",
      "Epoch 00061: saving model to model/keypoint_classifier/keypoint_classifier.hdf5\n",
      "114/114 [==============================] - 0s 904us/step - loss: 0.1871 - accuracy: 0.9381 - val_loss: 0.0346 - val_accuracy: 0.9947\n",
      "Epoch 62/1000\n",
      " 76/114 [===================>..........] - ETA: 0s - loss: 0.1772 - accuracy: 0.9422\n",
      "Epoch 00062: saving model to model/keypoint_classifier/keypoint_classifier.hdf5\n",
      "114/114 [==============================] - 0s 907us/step - loss: 0.1840 - accuracy: 0.9389 - val_loss: 0.0316 - val_accuracy: 0.9955\n",
      "Epoch 63/1000\n",
      " 78/114 [===================>..........] - ETA: 0s - loss: 0.1821 - accuracy: 0.9418\n",
      "Epoch 00063: saving model to model/keypoint_classifier/keypoint_classifier.hdf5\n",
      "114/114 [==============================] - 0s 900us/step - loss: 0.1789 - accuracy: 0.9435 - val_loss: 0.0308 - val_accuracy: 0.9957\n",
      "Epoch 64/1000\n",
      " 79/114 [===================>..........] - ETA: 0s - loss: 0.1746 - accuracy: 0.9420\n",
      "Epoch 00064: saving model to model/keypoint_classifier/keypoint_classifier.hdf5\n",
      "114/114 [==============================] - 0s 872us/step - loss: 0.1809 - accuracy: 0.9410 - val_loss: 0.0330 - val_accuracy: 0.9953\n",
      "Epoch 65/1000\n",
      " 79/114 [===================>..........] - ETA: 0s - loss: 0.1838 - accuracy: 0.9407\n",
      "Epoch 00065: saving model to model/keypoint_classifier/keypoint_classifier.hdf5\n",
      "114/114 [==============================] - 0s 871us/step - loss: 0.1824 - accuracy: 0.9412 - val_loss: 0.0348 - val_accuracy: 0.9901\n",
      "Epoch 66/1000\n",
      " 79/114 [===================>..........] - ETA: 0s - loss: 0.1768 - accuracy: 0.9432\n",
      "Epoch 00066: saving model to model/keypoint_classifier/keypoint_classifier.hdf5\n",
      "114/114 [==============================] - 0s 868us/step - loss: 0.1786 - accuracy: 0.9420 - val_loss: 0.0329 - val_accuracy: 0.9949\n",
      "Epoch 67/1000\n",
      " 77/114 [===================>..........] - ETA: 0s - loss: 0.1858 - accuracy: 0.9376\n",
      "Epoch 00067: saving model to model/keypoint_classifier/keypoint_classifier.hdf5\n",
      "114/114 [==============================] - 0s 876us/step - loss: 0.1831 - accuracy: 0.9395 - val_loss: 0.0330 - val_accuracy: 0.9912\n",
      "Epoch 68/1000\n",
      " 79/114 [===================>..........] - ETA: 0s - loss: 0.1744 - accuracy: 0.9422\n",
      "Epoch 00068: saving model to model/keypoint_classifier/keypoint_classifier.hdf5\n",
      "114/114 [==============================] - 0s 873us/step - loss: 0.1734 - accuracy: 0.9427 - val_loss: 0.0327 - val_accuracy: 0.9942\n",
      "Epoch 69/1000\n",
      " 78/114 [===================>..........] - ETA: 0s - loss: 0.1738 - accuracy: 0.9437\n",
      "Epoch 00069: saving model to model/keypoint_classifier/keypoint_classifier.hdf5\n",
      "114/114 [==============================] - 0s 876us/step - loss: 0.1757 - accuracy: 0.9423 - val_loss: 0.0347 - val_accuracy: 0.9936\n",
      "Epoch 70/1000\n",
      " 77/114 [===================>..........] - ETA: 0s - loss: 0.1712 - accuracy: 0.9403\n",
      "Epoch 00070: saving model to model/keypoint_classifier/keypoint_classifier.hdf5\n",
      "114/114 [==============================] - 0s 885us/step - loss: 0.1739 - accuracy: 0.9404 - val_loss: 0.0388 - val_accuracy: 0.9872\n",
      "Epoch 71/1000\n",
      " 81/114 [====================>.........] - ETA: 0s - loss: 0.1767 - accuracy: 0.9433\n",
      "Epoch 00071: saving model to model/keypoint_classifier/keypoint_classifier.hdf5\n",
      "114/114 [==============================] - 0s 858us/step - loss: 0.1737 - accuracy: 0.9445 - val_loss: 0.0375 - val_accuracy: 0.9870\n",
      "Epoch 72/1000\n",
      " 56/114 [=============>................] - ETA: 0s - loss: 0.1676 - accuracy: 0.9414\n",
      "Epoch 00072: saving model to model/keypoint_classifier/keypoint_classifier.hdf5\n",
      "114/114 [==============================] - 0s 984us/step - loss: 0.1675 - accuracy: 0.9439 - val_loss: 0.0382 - val_accuracy: 0.9866\n",
      "Epoch 73/1000\n",
      " 78/114 [===================>..........] - ETA: 0s - loss: 0.1739 - accuracy: 0.9458\n",
      "Epoch 00073: saving model to model/keypoint_classifier/keypoint_classifier.hdf5\n",
      "114/114 [==============================] - 0s 873us/step - loss: 0.1731 - accuracy: 0.9444 - val_loss: 0.0326 - val_accuracy: 0.9903\n",
      "Epoch 74/1000\n",
      " 78/114 [===================>..........] - ETA: 0s - loss: 0.1669 - accuracy: 0.9466\n",
      "Epoch 00074: saving model to model/keypoint_classifier/keypoint_classifier.hdf5\n",
      "114/114 [==============================] - 0s 869us/step - loss: 0.1671 - accuracy: 0.9466 - val_loss: 0.0350 - val_accuracy: 0.9899\n",
      "Epoch 75/1000\n",
      " 79/114 [===================>..........] - ETA: 0s - loss: 0.1729 - accuracy: 0.9428\n",
      "Epoch 00075: saving model to model/keypoint_classifier/keypoint_classifier.hdf5\n",
      "114/114 [==============================] - 0s 867us/step - loss: 0.1756 - accuracy: 0.9420 - val_loss: 0.0376 - val_accuracy: 0.9944\n",
      "Epoch 76/1000\n",
      " 78/114 [===================>..........] - ETA: 0s - loss: 0.1652 - accuracy: 0.9450\n",
      "Epoch 00076: saving model to model/keypoint_classifier/keypoint_classifier.hdf5\n",
      "114/114 [==============================] - 0s 878us/step - loss: 0.1638 - accuracy: 0.9449 - val_loss: 0.0336 - val_accuracy: 0.9899\n",
      "Epoch 77/1000\n",
      " 78/114 [===================>..........] - ETA: 0s - loss: 0.1675 - accuracy: 0.9476\n",
      "Epoch 00077: saving model to model/keypoint_classifier/keypoint_classifier.hdf5\n",
      "114/114 [==============================] - 0s 867us/step - loss: 0.1657 - accuracy: 0.9466 - val_loss: 0.0357 - val_accuracy: 0.9893\n",
      "Epoch 78/1000\n",
      " 77/114 [===================>..........] - ETA: 0s - loss: 0.1637 - accuracy: 0.9476\n",
      "Epoch 00078: saving model to model/keypoint_classifier/keypoint_classifier.hdf5\n",
      "114/114 [==============================] - 0s 875us/step - loss: 0.1648 - accuracy: 0.9477 - val_loss: 0.0329 - val_accuracy: 0.9903\n",
      "Epoch 79/1000\n",
      " 79/114 [===================>..........] - ETA: 0s - loss: 0.1655 - accuracy: 0.9441\n",
      "Epoch 00079: saving model to model/keypoint_classifier/keypoint_classifier.hdf5\n",
      "114/114 [==============================] - 0s 872us/step - loss: 0.1643 - accuracy: 0.9450 - val_loss: 0.0362 - val_accuracy: 0.9868\n",
      "Epoch 80/1000\n",
      " 79/114 [===================>..........] - ETA: 0s - loss: 0.1637 - accuracy: 0.9485\n",
      "Epoch 00080: saving model to model/keypoint_classifier/keypoint_classifier.hdf5\n",
      "114/114 [==============================] - 0s 871us/step - loss: 0.1641 - accuracy: 0.9479 - val_loss: 0.0342 - val_accuracy: 0.9899\n",
      "Epoch 81/1000\n",
      " 80/114 [====================>.........] - ETA: 0s - loss: 0.1557 - accuracy: 0.9475\n",
      "Epoch 00081: saving model to model/keypoint_classifier/keypoint_classifier.hdf5\n",
      "114/114 [==============================] - 0s 860us/step - loss: 0.1612 - accuracy: 0.9479 - val_loss: 0.0321 - val_accuracy: 0.9907\n",
      "Epoch 82/1000\n",
      " 78/114 [===================>..........] - ETA: 0s - loss: 0.1628 - accuracy: 0.9494\n",
      "Epoch 00082: saving model to model/keypoint_classifier/keypoint_classifier.hdf5\n",
      "114/114 [==============================] - 0s 873us/step - loss: 0.1631 - accuracy: 0.9494 - val_loss: 0.0294 - val_accuracy: 0.9949\n",
      "Epoch 83/1000\n",
      " 79/114 [===================>..........] - ETA: 0s - loss: 0.1561 - accuracy: 0.9494\n",
      "Epoch 00083: saving model to model/keypoint_classifier/keypoint_classifier.hdf5\n",
      "114/114 [==============================] - 0s 863us/step - loss: 0.1516 - accuracy: 0.9502 - val_loss: 0.0387 - val_accuracy: 0.9856\n",
      "Epoch 84/1000\n",
      " 82/114 [====================>.........] - ETA: 0s - loss: 0.1551 - accuracy: 0.9488\n",
      "Epoch 00084: saving model to model/keypoint_classifier/keypoint_classifier.hdf5\n",
      "114/114 [==============================] - 0s 850us/step - loss: 0.1563 - accuracy: 0.9491 - val_loss: 0.0349 - val_accuracy: 0.9944\n",
      "Epoch 85/1000\n",
      " 78/114 [===================>..........] - ETA: 0s - loss: 0.1500 - accuracy: 0.9514\n",
      "Epoch 00085: saving model to model/keypoint_classifier/keypoint_classifier.hdf5\n",
      "114/114 [==============================] - 0s 881us/step - loss: 0.1510 - accuracy: 0.9501 - val_loss: 0.0299 - val_accuracy: 0.9909\n",
      "Epoch 86/1000\n",
      " 81/114 [====================>.........] - ETA: 0s - loss: 0.1565 - accuracy: 0.9499\n",
      "Epoch 00086: saving model to model/keypoint_classifier/keypoint_classifier.hdf5\n",
      "114/114 [==============================] - 0s 859us/step - loss: 0.1558 - accuracy: 0.9498 - val_loss: 0.0346 - val_accuracy: 0.9905\n",
      "Epoch 87/1000\n",
      " 77/114 [===================>..........] - ETA: 0s - loss: 0.1573 - accuracy: 0.9480\n",
      "Epoch 00087: saving model to model/keypoint_classifier/keypoint_classifier.hdf5\n",
      "114/114 [==============================] - 0s 874us/step - loss: 0.1587 - accuracy: 0.9486 - val_loss: 0.0377 - val_accuracy: 0.9875\n",
      "Epoch 88/1000\n",
      " 77/114 [===================>..........] - ETA: 0s - loss: 0.1507 - accuracy: 0.9505\n",
      "Epoch 00088: saving model to model/keypoint_classifier/keypoint_classifier.hdf5\n",
      "114/114 [==============================] - 0s 879us/step - loss: 0.1510 - accuracy: 0.9504 - val_loss: 0.0344 - val_accuracy: 0.9887\n",
      "Epoch 89/1000\n",
      " 78/114 [===================>..........] - ETA: 0s - loss: 0.1536 - accuracy: 0.9491\n",
      "Epoch 00089: saving model to model/keypoint_classifier/keypoint_classifier.hdf5\n",
      "114/114 [==============================] - 0s 892us/step - loss: 0.1520 - accuracy: 0.9503 - val_loss: 0.0307 - val_accuracy: 0.9899\n",
      "Epoch 90/1000\n",
      " 76/114 [===================>..........] - ETA: 0s - loss: 0.1526 - accuracy: 0.9511\n",
      "Epoch 00090: saving model to model/keypoint_classifier/keypoint_classifier.hdf5\n",
      "114/114 [==============================] - 0s 907us/step - loss: 0.1531 - accuracy: 0.9507 - val_loss: 0.0367 - val_accuracy: 0.9877\n",
      "Epoch 91/1000\n",
      " 77/114 [===================>..........] - ETA: 0s - loss: 0.1496 - accuracy: 0.9505\n",
      "Epoch 00091: saving model to model/keypoint_classifier/keypoint_classifier.hdf5\n",
      "114/114 [==============================] - 0s 893us/step - loss: 0.1483 - accuracy: 0.9515 - val_loss: 0.0327 - val_accuracy: 0.9905\n",
      "Epoch 92/1000\n",
      " 74/114 [==================>...........] - ETA: 0s - loss: 0.1473 - accuracy: 0.9515\n",
      "Epoch 00092: saving model to model/keypoint_classifier/keypoint_classifier.hdf5\n",
      "114/114 [==============================] - 0s 921us/step - loss: 0.1462 - accuracy: 0.9535 - val_loss: 0.0385 - val_accuracy: 0.9856\n",
      "Epoch 93/1000\n",
      " 75/114 [==================>...........] - ETA: 0s - loss: 0.1382 - accuracy: 0.9561\n",
      "Epoch 00093: saving model to model/keypoint_classifier/keypoint_classifier.hdf5\n",
      "114/114 [==============================] - 0s 902us/step - loss: 0.1368 - accuracy: 0.9558 - val_loss: 0.0371 - val_accuracy: 0.9866\n",
      "Epoch 94/1000\n",
      " 77/114 [===================>..........] - ETA: 0s - loss: 0.1452 - accuracy: 0.9534\n",
      "Epoch 00094: saving model to model/keypoint_classifier/keypoint_classifier.hdf5\n",
      "114/114 [==============================] - 0s 907us/step - loss: 0.1470 - accuracy: 0.9534 - val_loss: 0.0359 - val_accuracy: 0.9870\n",
      "Epoch 95/1000\n",
      " 57/114 [==============>...............] - ETA: 0s - loss: 0.1389 - accuracy: 0.9553\n",
      "Epoch 00095: saving model to model/keypoint_classifier/keypoint_classifier.hdf5\n",
      "114/114 [==============================] - 0s 1ms/step - loss: 0.1427 - accuracy: 0.9549 - val_loss: 0.0416 - val_accuracy: 0.9823\n",
      "Epoch 96/1000\n",
      " 75/114 [==================>...........] - ETA: 0s - loss: 0.1472 - accuracy: 0.9526\n",
      "Epoch 00096: saving model to model/keypoint_classifier/keypoint_classifier.hdf5\n",
      "114/114 [==============================] - 0s 896us/step - loss: 0.1462 - accuracy: 0.9529 - val_loss: 0.0363 - val_accuracy: 0.9870\n",
      "Epoch 97/1000\n",
      " 75/114 [==================>...........] - ETA: 0s - loss: 0.1378 - accuracy: 0.9555\n",
      "Epoch 00097: saving model to model/keypoint_classifier/keypoint_classifier.hdf5\n",
      "114/114 [==============================] - 0s 910us/step - loss: 0.1372 - accuracy: 0.9556 - val_loss: 0.0330 - val_accuracy: 0.9928\n",
      "Epoch 98/1000\n",
      " 78/114 [===================>..........] - ETA: 0s - loss: 0.1440 - accuracy: 0.9516\n",
      "Epoch 00098: saving model to model/keypoint_classifier/keypoint_classifier.hdf5\n",
      "114/114 [==============================] - 0s 899us/step - loss: 0.1458 - accuracy: 0.9523 - val_loss: 0.0608 - val_accuracy: 0.9794\n",
      "Epoch 99/1000\n",
      " 75/114 [==================>...........] - ETA: 0s - loss: 0.1401 - accuracy: 0.9547\n",
      "Epoch 00099: saving model to model/keypoint_classifier/keypoint_classifier.hdf5\n",
      "114/114 [==============================] - 0s 911us/step - loss: 0.1429 - accuracy: 0.9545 - val_loss: 0.0384 - val_accuracy: 0.9846\n",
      "Epoch 100/1000\n",
      " 78/114 [===================>..........] - ETA: 0s - loss: 0.1406 - accuracy: 0.9560\n",
      "Epoch 00100: saving model to model/keypoint_classifier/keypoint_classifier.hdf5\n",
      "114/114 [==============================] - 0s 892us/step - loss: 0.1404 - accuracy: 0.9553 - val_loss: 0.0395 - val_accuracy: 0.9862\n",
      "Epoch 101/1000\n",
      " 77/114 [===================>..........] - ETA: 0s - loss: 0.1335 - accuracy: 0.9581\n",
      "Epoch 00101: saving model to model/keypoint_classifier/keypoint_classifier.hdf5\n",
      "114/114 [==============================] - 0s 905us/step - loss: 0.1352 - accuracy: 0.9571 - val_loss: 0.0372 - val_accuracy: 0.9866\n",
      "Epoch 102/1000\n",
      " 77/114 [===================>..........] - ETA: 0s - loss: 0.1422 - accuracy: 0.9538\n",
      "Epoch 00102: saving model to model/keypoint_classifier/keypoint_classifier.hdf5\n",
      "114/114 [==============================] - 0s 889us/step - loss: 0.1419 - accuracy: 0.9545 - val_loss: 0.0408 - val_accuracy: 0.9844\n",
      "Epoch 00102: early stopping\n"
     ]
    },
    {
     "data": {
      "text/plain": [
       "<keras.callbacks.History at 0x1688faa10>"
      ]
     },
     "execution_count": 55,
     "metadata": {},
     "output_type": "execute_result"
    }
   ],
   "source": [
    "model.fit(\n",
    "    X_train,\n",
    "    y_train,\n",
    "    epochs=1000,\n",
    "    batch_size=128,\n",
    "    validation_data=(X_test, y_test),\n",
    "    callbacks=[cp_callback, es_callback]\n",
    ")"
   ]
  },
  {
   "cell_type": "code",
   "execution_count": 56,
   "metadata": {},
   "outputs": [
    {
     "name": "stdout",
     "output_type": "stream",
     "text": [
      "38/38 [==============================] - 0s 382us/step - loss: 0.0408 - accuracy: 0.9844\n"
     ]
    }
   ],
   "source": [
    "# モデル評価\n",
    "val_loss, val_acc = model.evaluate(X_test, y_test, batch_size=128)"
   ]
  },
  {
   "cell_type": "code",
   "execution_count": 57,
   "metadata": {},
   "outputs": [],
   "source": [
    "# 保存したモデルのロード\n",
    "model = tf.keras.models.load_model(model_save_path)"
   ]
  },
  {
   "cell_type": "code",
   "execution_count": 58,
   "metadata": {},
   "outputs": [
    {
     "name": "stdout",
     "output_type": "stream",
     "text": [
      "[2.2698374e-07 2.5570457e-11 9.9471551e-01 2.3325514e-10 5.3082518e-14\n",
      " 3.7406307e-11 2.6752419e-05 1.7438429e-08 1.8340284e-06 5.2305367e-03\n",
      " 1.1829623e-05 2.5265350e-09 2.1253000e-17 1.3978583e-09 1.3381025e-05\n",
      " 6.0656207e-12 1.5572484e-12 7.2835259e-11]\n",
      "2\n"
     ]
    }
   ],
   "source": [
    "# 推論テスト\n",
    "predict_result = model.predict(np.array([X_test[0]]))\n",
    "print(np.squeeze(predict_result))\n",
    "print(np.argmax(np.squeeze(predict_result)))"
   ]
  },
  {
   "cell_type": "markdown",
   "metadata": {},
   "source": [
    "# 시각화(confusion_matrix)"
   ]
  },
  {
   "cell_type": "code",
   "execution_count": 59,
   "metadata": {},
   "outputs": [
    {
     "data": {
      "image/png": "[encoded data removed]",
      "text/plain": [
       "<Figure size 504x432 with 2 Axes>"
      ]
     },
     "metadata": {
      "needs_background": "light"
     },
     "output_type": "display_data"
    },
    {
     "name": "stdout",
     "output_type": "stream",
     "text": [
      "Classification Report\n",
      "              precision    recall  f1-score   support\n",
      "\n",
      "           0       0.97      1.00      0.99       498\n",
      "           1       1.00      1.00      1.00       436\n",
      "           2       1.00      1.00      1.00       415\n",
      "           3       1.00      0.99      0.99       476\n",
      "           4       1.00      1.00      1.00       376\n",
      "           5       1.00      0.95      0.98       239\n",
      "           6       0.87      1.00      0.93       368\n",
      "           7       1.00      0.83      0.91       317\n",
      "           8       1.00      0.99      0.99       307\n",
      "           9       1.00      1.00      1.00       378\n",
      "          10       1.00      1.00      1.00        99\n",
      "          11       1.00      1.00      1.00        84\n",
      "          12       1.00      1.00      1.00       111\n",
      "          13       1.00      1.00      1.00       112\n",
      "          14       1.00      1.00      1.00       206\n",
      "          15       0.98      1.00      0.99       138\n",
      "          16       1.00      1.00      1.00       114\n",
      "          17       1.00      1.00      1.00       187\n",
      "\n",
      "    accuracy                           0.98      4861\n",
      "   macro avg       0.99      0.99      0.99      4861\n",
      "weighted avg       0.99      0.98      0.98      4861\n",
      "\n"
     ]
    }
   ],
   "source": [
    "import pandas as pd\n",
    "import seaborn as sns\n",
    "import matplotlib.pyplot as plt\n",
    "from sklearn.metrics import confusion_matrix, classification_report\n",
    "\n",
    "def print_confusion_matrix(y_true, y_pred, report=True):\n",
    "    labels = sorted(list(set(y_true)))\n",
    "    cmx_data = confusion_matrix(y_true, y_pred, labels=labels)\n",
    "    \n",
    "    df_cmx = pd.DataFrame(cmx_data, index=labels, columns=labels)\n",
    " \n",
    "    fig, ax = plt.subplots(figsize=(7, 6))\n",
    "    sns.heatmap(df_cmx, annot=True, fmt='g' ,square=False)\n",
    "    ax.set_ylim(len(set(y_true)), 0)\n",
    "    plt.show()\n",
    "    \n",
    "    if report:\n",
    "        print('Classification Report')\n",
    "        print(classification_report(y_test, y_pred))\n",
    "\n",
    "Y_pred = model.predict(X_test)\n",
    "y_pred = np.argmax(Y_pred, axis=1)\n",
    "\n",
    "print_confusion_matrix(y_test, y_pred)"
   ]
  },
  {
   "cell_type": "markdown",
   "metadata": {},
   "source": [
    "# Tensorflow-Lite용 모델로 변환"
   ]
  },
  {
   "cell_type": "code",
   "execution_count": 60,
   "metadata": {},
   "outputs": [],
   "source": [
    "# 추론 전용 모델로 저장\n",
    "model.save(model_save_path, include_optimizer=False)"
   ]
  },
  {
   "cell_type": "code",
   "execution_count": 61,
   "metadata": {},
   "outputs": [
    {
     "name": "stdout",
     "output_type": "stream",
     "text": [
      "INFO:tensorflow:Assets written to: /var/folders/yl/3qq35jrn65z0p93ls3scx5s80000gn/T/tmpcq_hckt6/assets\n"
     ]
    },
    {
     "name": "stderr",
     "output_type": "stream",
     "text": [
      "INFO:tensorflow:Assets written to: /var/folders/yl/3qq35jrn65z0p93ls3scx5s80000gn/T/tmpcq_hckt6/assets\n",
      "2022-06-28 14:31:36.533200: W tensorflow/compiler/mlir/lite/python/tf_tfl_flatbuffer_helpers.cc:363] Ignored output_format.\n",
      "2022-06-28 14:31:36.533213: W tensorflow/compiler/mlir/lite/python/tf_tfl_flatbuffer_helpers.cc:366] Ignored drop_control_dependency.\n",
      "WARNING:absl:Buffer deduplication procedure will be skipped when flatbuffer library is not properly loaded\n",
      "2022-06-28 14:31:36.533297: I tensorflow/cc/saved_model/reader.cc:43] Reading SavedModel from: /var/folders/yl/3qq35jrn65z0p93ls3scx5s80000gn/T/tmpcq_hckt6\n",
      "2022-06-28 14:31:36.534101: I tensorflow/cc/saved_model/reader.cc:107] Reading meta graph with tags { serve }\n",
      "2022-06-28 14:31:36.534106: I tensorflow/cc/saved_model/reader.cc:148] Reading SavedModel debug info (if present) from: /var/folders/yl/3qq35jrn65z0p93ls3scx5s80000gn/T/tmpcq_hckt6\n",
      "2022-06-28 14:31:36.536962: I tensorflow/cc/saved_model/loader.cc:210] Restoring SavedModel bundle.\n",
      "2022-06-28 14:31:36.558468: I tensorflow/cc/saved_model/loader.cc:194] Running initialization op on SavedModel bundle at path: /var/folders/yl/3qq35jrn65z0p93ls3scx5s80000gn/T/tmpcq_hckt6\n",
      "2022-06-28 14:31:36.565347: I tensorflow/cc/saved_model/loader.cc:283] SavedModel load for tags { serve }; Status: success: OK. Took 32050 microseconds.\n",
      "2022-06-28 14:31:36.591435: I tensorflow/lite/tools/optimize/quantize_weights.cc:225] Skipping quantization of tensor sequential_2/dense_8/MatMul because it has fewer than 1024 elements (576).\n"
     ]
    },
    {
     "data": {
      "text/plain": [
       "9552"
      ]
     },
     "execution_count": 61,
     "metadata": {},
     "output_type": "execute_result"
    }
   ],
   "source": [
    "# 모델변환(양자화)\n",
    "tflite_save_path = 'model/keypoint_classifier/keypoint_classifier.tflite'\n",
    "\n",
    "converter = tf.lite.TFLiteConverter.from_keras_model(model)\n",
    "converter.optimizations = [tf.lite.Optimize.DEFAULT]\n",
    "tflite_quantized_model = converter.convert()\n",
    "\n",
    "open(tflite_save_path, 'wb').write(tflite_quantized_model)"
   ]
  },
  {
   "cell_type": "markdown",
   "metadata": {},
   "source": [
    "# 추론 테스트"
   ]
  },
  {
   "cell_type": "code",
   "execution_count": 62,
   "metadata": {},
   "outputs": [],
   "source": [
    "interpreter = tf.lite.Interpreter(model_path=tflite_save_path)\n",
    "interpreter.allocate_tensors()"
   ]
  },
  {
   "cell_type": "code",
   "execution_count": 63,
   "metadata": {},
   "outputs": [],
   "source": [
    "# 입출력 텐서 얻기\n",
    "input_details = interpreter.get_input_details()\n",
    "output_details = interpreter.get_output_details()"
   ]
  },
  {
   "cell_type": "code",
   "execution_count": 64,
   "metadata": {},
   "outputs": [],
   "source": [
    "interpreter.set_tensor(input_details[0]['index'], np.array([X_test[0]]))"
   ]
  },
  {
   "cell_type": "code",
   "execution_count": 65,
   "metadata": {
    "scrolled": true
   },
   "outputs": [
    {
     "name": "stdout",
     "output_type": "stream",
     "text": [
      "CPU times: user 66 µs, sys: 37 µs, total: 103 µs\n",
      "Wall time: 86.8 µs\n"
     ]
    }
   ],
   "source": [
    "%%time\n",
    "# 추론 실시\n",
    "interpreter.invoke()\n",
    "tflite_results = interpreter.get_tensor(output_details[0]['index'])"
   ]
  },
  {
   "cell_type": "code",
   "execution_count": 66,
   "metadata": {},
   "outputs": [
    {
     "name": "stdout",
     "output_type": "stream",
     "text": [
      "[2.21440985e-07 3.28540355e-11 9.93933976e-01 3.13343712e-10\n",
      " 7.88077963e-14 4.53726084e-11 3.12161283e-05 2.22507595e-08\n",
      " 2.22650237e-06 6.00631116e-03 1.17645923e-05 3.40610651e-09\n",
      " 3.18425162e-17 1.97830929e-09 1.43046445e-05 7.96529336e-12\n",
      " 1.91561957e-12 8.99163660e-11]\n",
      "2\n"
     ]
    }
   ],
   "source": [
    "print(np.squeeze(tflite_results))\n",
    "print(np.argmax(np.squeeze(tflite_results)))"
   ]
  },
  {
   "cell_type": "code",
   "execution_count": null,
   "metadata": {},
   "outputs": [],
   "source": []
  }
 ],
 "metadata": {
  "kernelspec": {
   "display_name": "Python 3 (ipykernel)",
   "language": "python",
   "name": "python3"
  },
  "language_info": {
   "codemirror_mode": {
    "name": "ipython",
    "version": 3
   },
   "file_extension": ".py",
   "mimetype": "text/x-python",
   "name": "python",
   "nbconvert_exporter": "python",
   "pygments_lexer": "ipython3",
   "version": "3.10.4"
  }
 },
 "nbformat": 4,
 "nbformat_minor": 4
}
